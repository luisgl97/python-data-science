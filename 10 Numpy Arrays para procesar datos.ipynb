{
 "cells": [
  {
   "cell_type": "markdown",
   "metadata": {},
   "source": [
    "### Numpy"
   ]
  },
  {
   "cell_type": "code",
   "execution_count": 10,
   "metadata": {},
   "outputs": [
    {
     "name": "stdout",
     "output_type": "stream",
     "text": [
      "[100   2   3   4   5   6]\n",
      "[0 1 2 3 4 5 6]\n",
      "[2 3 4 5 6]\n",
      "[2.  2.5 3.  3.5 4.  4.5 5.  5.5 6.  6.5]\n",
      "<class 'numpy.ndarray'>\n"
     ]
    }
   ],
   "source": [
    "import numpy as np\n",
    "\n",
    "arreglo1 = np.array([1,2,3,4,5,6])\n",
    "arreglo1[0]=100\n",
    "arreglo2 = np.arange(7)\n",
    "arreglo3 = np.arange(2,7)\n",
    "arreglo4 = np.arange(2,7,0.5)\n",
    "\n",
    "print(arreglo1)\n",
    "print(arreglo2)\n",
    "print(arreglo3)\n",
    "print(arreglo4)\n",
    "print(type(arreglo1))"
   ]
  },
  {
   "cell_type": "code",
   "execution_count": 11,
   "metadata": {},
   "outputs": [
    {
     "name": "stdout",
     "output_type": "stream",
     "text": [
      "100\n",
      "[100   3]\n",
      "[100   2]\n",
      "6\n",
      "6\n",
      "None\n"
     ]
    }
   ],
   "source": [
    "print(arreglo1[0])\n",
    "print(arreglo1[[0,2]])\n",
    "print(arreglo1[0:2])\n",
    "print(arreglo1.size)\n",
    "print(len(arreglo1))\n",
    "print(arreglo1.sort())"
   ]
  },
  {
   "cell_type": "code",
   "execution_count": 12,
   "metadata": {},
   "outputs": [],
   "source": [
    "arreglo5 = np.array([12,3,-3,3.2,1,0])"
   ]
  },
  {
   "cell_type": "code",
   "execution_count": 13,
   "metadata": {},
   "outputs": [
    {
     "data": {
      "text/plain": [
       "array([-3. ,  0. ,  1. ,  3. ,  3.2, 12. ])"
      ]
     },
     "execution_count": 13,
     "metadata": {},
     "output_type": "execute_result"
    }
   ],
   "source": [
    "arreglo5.sort()\n",
    "arreglo5"
   ]
  },
  {
   "cell_type": "code",
   "execution_count": 14,
   "metadata": {},
   "outputs": [
    {
     "name": "stdout",
     "output_type": "stream",
     "text": [
      "[12.   3.2  3.   1.   0.  -3. ]\n"
     ]
    }
   ],
   "source": [
    "#Ordenar de forma descendente\n",
    "print(arreglo5[::-1])\n"
   ]
  },
  {
   "cell_type": "code",
   "execution_count": 16,
   "metadata": {},
   "outputs": [
    {
     "name": "stdout",
     "output_type": "stream",
     "text": [
      "[1 2 3 4 5 6] int32 4\n",
      "[-13824      2      3      4      5      6] int16 2\n",
      "[1000000000          2          3          4          5          6] int32 4\n",
      "[1000000000          2          3          4          5          6] int64 8\n"
     ]
    }
   ],
   "source": [
    "arreglo = np.array([1,2,3,4,5,6], dtype=\"i\")\n",
    "print(arreglo, arreglo.dtype, arreglo.itemsize)\n",
    "\n",
    "arreglo = np.array([1000000000,2,3,4,5,6], dtype=\"i2\")\n",
    "print(arreglo, arreglo.dtype, arreglo.itemsize)\n",
    "\n",
    "arreglo = np.array([1000000000,2,3,4,5,6], dtype=\"i4\")\n",
    "print(arreglo, arreglo.dtype, arreglo.itemsize)\n",
    "\n",
    "arreglo = np.array([1000000000,2,3,4,5,6], dtype=\"i8\")\n",
    "print(arreglo, arreglo.dtype, arreglo.itemsize)"
   ]
  },
  {
   "cell_type": "code",
   "execution_count": 22,
   "metadata": {},
   "outputs": [
    {
     "name": "stdout",
     "output_type": "stream",
     "text": [
      "(6,)\n",
      "[[1 2 3]\n",
      " [4 5 6]]\n",
      "[[1 2]\n",
      " [3 4]\n",
      " [5 6]]\n"
     ]
    }
   ],
   "source": [
    "arr = np.array([1,2,3,4,5,6])\n",
    "print(arr.shape)\n",
    "print(arr.reshape((2,3)))\n",
    "print(arr.reshape((3,2)))"
   ]
  },
  {
   "cell_type": "code",
   "execution_count": 23,
   "metadata": {},
   "outputs": [
    {
     "name": "stdout",
     "output_type": "stream",
     "text": [
      "[1 2 3 4 5 6 7]\n"
     ]
    }
   ],
   "source": [
    "arr = np.append(arr, 7)\n",
    "print(arr)"
   ]
  },
  {
   "cell_type": "code",
   "execution_count": 24,
   "metadata": {},
   "outputs": [
    {
     "name": "stdout",
     "output_type": "stream",
     "text": [
      "[1 7 2 3 4 5 6 7]\n"
     ]
    }
   ],
   "source": [
    "arr = np.insert(arr, 1, 7)\n",
    "print(arr)"
   ]
  },
  {
   "cell_type": "code",
   "execution_count": 25,
   "metadata": {},
   "outputs": [
    {
     "name": "stdout",
     "output_type": "stream",
     "text": [
      "[1 7 3 4 5 6 7]\n"
     ]
    }
   ],
   "source": [
    "arr = np.delete(arr, 2)\n",
    "print(arr)"
   ]
  },
  {
   "cell_type": "code",
   "execution_count": 33,
   "metadata": {},
   "outputs": [
    {
     "data": {
      "text/plain": [
       "array([1, 6], dtype=int64)"
      ]
     },
     "execution_count": 33,
     "metadata": {},
     "output_type": "execute_result"
    }
   ],
   "source": [
    "np.where(arr==7)[0]\n"
   ]
  },
  {
   "cell_type": "code",
   "execution_count": 35,
   "metadata": {},
   "outputs": [
    {
     "name": "stdout",
     "output_type": "stream",
     "text": [
      "[2 8 4 5 6 7 8]\n",
      "[ 4 28 12 16 20 24 28]\n",
      "[ 1 49  9 16 25 36 49]\n"
     ]
    }
   ],
   "source": [
    "# arr = [1,7,3,4,5,6,7]\n",
    "print(arr+1)\n",
    "print(arr*4)\n",
    "print(arr*arr)"
   ]
  },
  {
   "cell_type": "code",
   "execution_count": 36,
   "metadata": {},
   "outputs": [],
   "source": [
    "alturas = np.array([1.74, 1.8, 1.78, 1.68, 1.78, 1.7, 1.74, 1.74, 1.73, 1.79, \n",
    "           1.78, 1.72, 1.65, 1.78, 1.7, 1.68, 1.79, 1.68, 1.82, 1.72,\n",
    "           1.75, 1.66, 1.67, 1.79, 1.75, 1.65, 1.78, 1.73, 1.71, 1.81,\n",
    "           1.73, 1.71, 1.68, 1.74, 1.75, 1.68, 1.74, 1.81, 1.73, 1.82,\n",
    "           1.8, 1.67, 1.73, 1.7, 1.73, 1.7, 1.81, 1.81, 1.76, 1.82, 1.68,\n",
    "           1.74, 1.65, 1.8, 1.78, 1.7, 1.68, 1.78, 1.79, 1.73, 1.64, 1.67,\n",
    "           1.69, 1.74, 1.76, 1.66, 1.66, 1.73, 1.79, 1.81, 1.78, 1.63,\n",
    "           1.76, 1.72, 1.71, 1.7, 1.62, 1.8, 1.75, 1.8, 1.78, 1.78, 1.76,\n",
    "           1.65, 1.65, 1.68, 1.74, 1.75, 1.69, 1.75, 1.7, 1.83, 1.64, 1.7,\n",
    "           1.69, 1.69, 1.64, 1.69, 1.77, 1.8, 1.78, 1.69, 1.7, 1.7, 1.7,\n",
    "           1.63, 1.73, 1.84, 1.66, 1.78, 1.8, 1.79, 1.78, 1.74, 1.77,\n",
    "           1.73, 1.77, 1.76, 1.75, 1.8, 1.75,  1.8, 1.79, 1.71, 1.73,\n",
    "           1.59, 1.76, 1.75, 1.71, 1.76, 1.8, 1.68, 1.74, 1.77, 1.73,\n",
    "           1.68, 1.63, 1.67])\n",
    "\n",
    "pesos = np.array([81.4, 88.7, 87.3, 62.7, 81.6, 80.9, 74.6, 84.7, 76.7, 88.3,\n",
    "         84.6, 74, 57.7, 84.1, 79.7, 63.8, 88.4, 71.2, 87.1, 67, 80.7,\n",
    "         74.7, 60.5, 85.9, 72.4, 59.7, 87.3, 85.7, 64.1, 91.9, 82.8, 75.7,\n",
    "         60.2, 73.1, 74.7, 65.9, 80.9, 91.3, 76, 86.8, 80.7, 74.2, 83.1,\n",
    "         77.8, 84.5, 58.8, 89.5, 87, 84, 89.9, 56.5, 80.2, 61.8, 86.3,\n",
    "         82.6, 69.4, 65.8, 79.3, 88.1, 78.5, 69.1, 62.5, 74, 74.4, 87.6,\n",
    "         59.6, 61.4, 83.2, 89.2, 89.2, 103.7, 67.9, 85.4, 69.5, 75.7, \n",
    "         83.9, 59.5, 87.9, 82.6, 88.1, 86.2, 88.9, 84.4, 58.4, 61.5, 69.2,\n",
    "         84.2, 78, 81.1, 81.5, 74.7, 90.4, 59.2, 79.3, 65.1, 93, 60.5,\n",
    "         76.4, 98.8, 89.1, 88.9, 61.1, 76.6, 86, 75.5, 66.9, 79.4, 87.9,\n",
    "         72.3, 93.8, 89, 90.7, 86.7, 77.6, 85.1, 91.8, 103.2, 91.1, 67,\n",
    "         86.9, 78.7, 87.1, 85.5, 69.8, 75, 53.9, 99, 93.7, 88, 79.4, 87.6,\n",
    "         60.4, 82.7, 90.6, 79.8, 61.2, 62.5, 59.7])   "
   ]
  },
  {
   "cell_type": "code",
   "execution_count": 39,
   "metadata": {},
   "outputs": [
    {
     "name": "stdout",
     "output_type": "stream",
     "text": [
      "[26.8859823  27.37654321 27.55333922 22.21513605 25.75432395 27.99307958\n",
      " 24.63997886 27.97595455 25.62731799 27.55844075 26.70117409 25.01352082\n",
      " 21.19375574 26.54336574 27.57785467 22.60487528 27.58965076 25.22675737\n",
      " 26.29513344 22.64737696 26.35102041 27.10843373 21.69314066 26.80940046\n",
      " 23.64081633 21.92837466 27.55333922 28.63443483 21.92127492 28.05164678\n",
      " 27.66547496 25.88830751 21.32936508 24.14453693 24.39183673 23.3489229\n",
      " 26.72083498 27.86850218 25.39343112 26.20456467 24.90740741 26.60547169\n",
      " 27.76571219 26.92041522 28.23348592 20.34602076 27.3190684  26.55596594\n",
      " 27.1177686  27.14044198 20.01842404 26.48962875 22.69972452 26.63580247\n",
      " 26.06994066 24.01384083 23.31349206 25.0284055  27.49602072 26.22874135\n",
      " 25.69155265 22.41026928 25.90945695 24.57391994 28.27995868 21.62868341\n",
      " 22.28189868 27.79912459 27.83933086 27.22749611 32.72945335 25.55609921\n",
      " 27.5697314  23.49242834 25.88830751 29.03114187 22.6718488  27.12962963\n",
      " 26.97142857 27.19135802 27.20616084 28.05832597 27.24690083 21.45087236\n",
      " 22.58953168 24.51814059 27.81080724 25.46938776 28.39536431 26.6122449\n",
      " 25.84775087 26.99393831 22.01070791 27.43944637 22.79331956 32.56188509\n",
      " 22.49405116 26.74976366 31.53627629 27.5        28.05832597 21.39280838\n",
      " 26.50519031 29.75778547 26.12456747 25.17972073 26.52945304 25.9629017\n",
      " 26.23748004 29.60484787 27.4691358  28.30748104 27.3639692  25.63086273\n",
      " 27.1633311  30.6725918  32.94072585 29.4098657  21.87755102 26.82098765\n",
      " 25.69795918 26.88271605 26.68456041 23.87059266 25.05930703 21.32035916\n",
      " 31.96022727 30.59591837 30.09473    25.63274793 27.03703704 21.40022676\n",
      " 27.31536531 28.91889304 26.66310268 21.68367347 23.52365539 21.40628922]\n"
     ]
    },
    {
     "data": {
      "text/plain": [
       "'\\nimc = []\\nfor i in range(alturas.size):\\n    imc.append(pesos[i]/(alturas[i]*alturas[i]))\\n'"
      ]
     },
     "execution_count": 39,
     "metadata": {},
     "output_type": "execute_result"
    }
   ],
   "source": [
    "imc = pesos / (alturas*alturas)\n",
    "print(imc)\n",
    "\n",
    "#equivalente\n",
    "\"\"\"\n",
    "imc = []\n",
    "for i in range(alturas.size):\n",
    "    imc.append(pesos[i]/(alturas[i]*alturas[i]))\n",
    "\"\"\""
   ]
  }
 ],
 "metadata": {
  "interpreter": {
   "hash": "c469c999aae2bf6d578d6881606ced546d1546d312a4811937df5b24665ee8bc"
  },
  "kernelspec": {
   "display_name": "Python 3.9.12 ('base')",
   "language": "python",
   "name": "python3"
  },
  "language_info": {
   "codemirror_mode": {
    "name": "ipython",
    "version": 3
   },
   "file_extension": ".py",
   "mimetype": "text/x-python",
   "name": "python",
   "nbconvert_exporter": "python",
   "pygments_lexer": "ipython3",
   "version": "3.9.12"
  },
  "orig_nbformat": 4
 },
 "nbformat": 4,
 "nbformat_minor": 2
}
