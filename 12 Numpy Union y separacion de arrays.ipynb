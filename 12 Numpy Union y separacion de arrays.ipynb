{
 "cells": [
  {
   "cell_type": "code",
   "execution_count": 1,
   "metadata": {},
   "outputs": [],
   "source": [
    "import numpy as np\n",
    "\n",
    "altura = np.array([1.74, 1.8, 1.78, 1.68, 1.78])\n",
    "\n",
    "peso = np.array([81.4, 88.7, 87.3, 62.7, 81.6])\n"
   ]
  },
  {
   "cell_type": "code",
   "execution_count": 5,
   "metadata": {},
   "outputs": [
    {
     "name": "stdout",
     "output_type": "stream",
     "text": [
      "[[ 1.74  1.8   1.78  1.68  1.78]\n",
      " [81.4  88.7  87.3  62.7  81.6 ]]\n",
      "\n",
      "[[ 1.74 81.4 ]\n",
      " [ 1.8  88.7 ]\n",
      " [ 1.78 87.3 ]\n",
      " [ 1.68 62.7 ]\n",
      " [ 1.78 81.6 ]]\n"
     ]
    }
   ],
   "source": [
    "print(np.stack((altura, peso)))\n",
    "print()\n",
    "print(np.stack((altura, peso), axis=1))"
   ]
  },
  {
   "cell_type": "code",
   "execution_count": 6,
   "metadata": {},
   "outputs": [
    {
     "name": "stdout",
     "output_type": "stream",
     "text": [
      "[ 1.74  1.8   1.78  1.68  1.78 81.4  88.7  87.3  62.7  81.6 ]\n"
     ]
    }
   ],
   "source": [
    "print(np.concatenate((altura, peso)))"
   ]
  },
  {
   "cell_type": "code",
   "execution_count": 9,
   "metadata": {},
   "outputs": [
    {
     "name": "stdout",
     "output_type": "stream",
     "text": [
      "[[ 1.74  1.8   1.78  1.68  1.78]\n",
      " [81.4  88.7  87.3  62.7  81.6 ]] <class 'numpy.ndarray'>\n",
      "\n",
      "[array([[1.74, 1.8 , 1.78, 1.68, 1.78]]), array([[81.4, 88.7, 87.3, 62.7, 81.6]])] <class 'list'>\n"
     ]
    }
   ],
   "source": [
    "union1 = np.stack((altura, peso))\n",
    "print(union1, type(union1))\n",
    "\n",
    "print()\n",
    "separados = np.split(union1, 2)\n",
    "print(separados, type(separados))"
   ]
  },
  {
   "cell_type": "code",
   "execution_count": 21,
   "metadata": {},
   "outputs": [
    {
     "name": "stdout",
     "output_type": "stream",
     "text": [
      "[[ 1.74 81.4 ]\n",
      " [ 1.8  88.7 ]\n",
      " [ 1.78 87.3 ]\n",
      " [ 1.68 62.7 ]\n",
      " [ 1.78 81.6 ]] <class 'numpy.ndarray'>\n",
      "\n",
      "[array([[ 1.74, 81.4 ]]), array([[ 1.8, 88.7]]), array([[ 1.78, 87.3 ]]), array([[ 1.68, 62.7 ]]), array([[ 1.78, 81.6 ]])] <class 'list'>\n"
     ]
    }
   ],
   "source": [
    "union2 = np.stack((altura, peso), axis=1)\n",
    "print(union2, type(union2))\n",
    "\n",
    "print()\n",
    "separados = np.split(union2, 5)\n",
    "print(separados, type(separados))"
   ]
  }
 ],
 "metadata": {
  "interpreter": {
   "hash": "c469c999aae2bf6d578d6881606ced546d1546d312a4811937df5b24665ee8bc"
  },
  "kernelspec": {
   "display_name": "Python 3.9.12 ('base')",
   "language": "python",
   "name": "python3"
  },
  "language_info": {
   "codemirror_mode": {
    "name": "ipython",
    "version": 3
   },
   "file_extension": ".py",
   "mimetype": "text/x-python",
   "name": "python",
   "nbconvert_exporter": "python",
   "pygments_lexer": "ipython3",
   "version": "3.9.12"
  },
  "orig_nbformat": 4
 },
 "nbformat": 4,
 "nbformat_minor": 2
}
