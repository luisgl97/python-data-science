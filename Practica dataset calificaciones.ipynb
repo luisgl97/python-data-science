{
 "cells": [
  {
   "cell_type": "code",
   "execution_count": 9,
   "metadata": {},
   "outputs": [],
   "source": [
    "import pandas as pd\n",
    "\n",
    "ruta = \"C:/Users/PC/Downloads/DATA-PRUEBA_CALIFICACIONES  2017-2020-UNMSM (2).xlsx\"\n",
    "\n",
    "calificaciones = pd.read_excel(ruta, sheet_name=None)"
   ]
  },
  {
   "cell_type": "code",
   "execution_count": 10,
   "metadata": {},
   "outputs": [],
   "source": [
    "calificaciones = pd.concat(calificaciones, ignore_index=True)\n",
    "calificaciones = calificaciones.drop([\"Unnamed: 7\", \"Unnamed: 8\",\"Unnamed: 9\",\"Unnamed: 10\"], axis=1)"
   ]
  },
  {
   "cell_type": "code",
   "execution_count": 18,
   "metadata": {},
   "outputs": [
    {
     "data": {
      "text/plain": [
       "cod_semestre          object\n",
       "cod_facultad          object\n",
       "cod_escuela           object\n",
       "cod_plan              object\n",
       "cod_asignatura        object\n",
       "cod_alumno            object\n",
       "val_calific_final    float64\n",
       "dtype: object"
      ]
     },
     "execution_count": 18,
     "metadata": {},
     "output_type": "execute_result"
    }
   ],
   "source": [
    "calificaciones.dtypes"
   ]
  },
  {
   "cell_type": "code",
   "execution_count": 17,
   "metadata": {},
   "outputs": [],
   "source": [
    "calificaciones = calificaciones.astype({\n",
    "    \"cod_semestre\":\"str\",\n",
    "    \"cod_facultad\":\"str\",\n",
    "    \"cod_escuela\":\"str\"\n",
    "})"
   ]
  },
  {
   "cell_type": "code",
   "execution_count": 142,
   "metadata": {},
   "outputs": [
    {
     "data": {
      "image/png": "[encoded data removed]",
      "text/plain": [
       "<Figure size 432x288 with 1 Axes>"
      ]
     },
     "metadata": {
      "needs_background": "light"
     },
     "output_type": "display_data"
    }
   ],
   "source": [
    "import matplotlib.pyplot as plt\n",
    "import numpy as np\n",
    "\n",
    "semestres = calificaciones[\"cod_semestre\"].unique()\n",
    "numero_calificaciones = calificaciones[\"cod_semestre\"].value_counts()\n",
    "\n",
    "plt.scatter(semestres,numero_calificaciones, marker=\"*\", color=\"red\")\n",
    "plt.plot(semestres, numero_calificaciones)\n",
    "\n",
    "plt.xlabel(\"Semestre\")\n",
    "plt.ylabel(\"Cantidad de calificaciones\")\n",
    "\n",
    "plt.show() \n"
   ]
  },
  {
   "cell_type": "code",
   "execution_count": 143,
   "metadata": {},
   "outputs": [
    {
     "data": {
      "text/html": [
       "<div>\n",
       "<style scoped>\n",
       "    .dataframe tbody tr th:only-of-type {\n",
       "        vertical-align: middle;\n",
       "    }\n",
       "\n",
       "    .dataframe tbody tr th {\n",
       "        vertical-align: top;\n",
       "    }\n",
       "\n",
       "    .dataframe thead th {\n",
       "        text-align: right;\n",
       "    }\n",
       "</style>\n",
       "<table border=\"1\" class=\"dataframe\">\n",
       "  <thead>\n",
       "    <tr style=\"text-align: right;\">\n",
       "      <th></th>\n",
       "      <th>cod_semestre</th>\n",
       "      <th>cod_facultad</th>\n",
       "      <th>cod_escuela</th>\n",
       "      <th>cod_plan</th>\n",
       "      <th>cod_asignatura</th>\n",
       "      <th>cod_alumno</th>\n",
       "      <th>val_calific_final</th>\n",
       "    </tr>\n",
       "  </thead>\n",
       "  <tbody>\n",
       "    <tr>\n",
       "      <th>0</th>\n",
       "      <td>20171</td>\n",
       "      <td>1</td>\n",
       "      <td>1</td>\n",
       "      <td>2004</td>\n",
       "      <td>MH0440</td>\n",
       "      <td>14010029</td>\n",
       "      <td>16.0</td>\n",
       "    </tr>\n",
       "    <tr>\n",
       "      <th>1</th>\n",
       "      <td>20171</td>\n",
       "      <td>1</td>\n",
       "      <td>1</td>\n",
       "      <td>2004</td>\n",
       "      <td>MH0440</td>\n",
       "      <td>14010276</td>\n",
       "      <td>16.0</td>\n",
       "    </tr>\n",
       "    <tr>\n",
       "      <th>2</th>\n",
       "      <td>20171</td>\n",
       "      <td>1</td>\n",
       "      <td>1</td>\n",
       "      <td>2004</td>\n",
       "      <td>MH0440</td>\n",
       "      <td>13010237</td>\n",
       "      <td>15.0</td>\n",
       "    </tr>\n",
       "    <tr>\n",
       "      <th>3</th>\n",
       "      <td>20171</td>\n",
       "      <td>1</td>\n",
       "      <td>1</td>\n",
       "      <td>2004</td>\n",
       "      <td>MH0440</td>\n",
       "      <td>13010241</td>\n",
       "      <td>15.0</td>\n",
       "    </tr>\n",
       "    <tr>\n",
       "      <th>4</th>\n",
       "      <td>20171</td>\n",
       "      <td>1</td>\n",
       "      <td>1</td>\n",
       "      <td>2004</td>\n",
       "      <td>MH0440</td>\n",
       "      <td>12010327</td>\n",
       "      <td>13.0</td>\n",
       "    </tr>\n",
       "  </tbody>\n",
       "</table>\n",
       "</div>"
      ],
      "text/plain": [
       "  cod_semestre cod_facultad cod_escuela cod_plan cod_asignatura cod_alumno  \\\n",
       "0        20171            1           1   2004         MH0440     14010029   \n",
       "1        20171            1           1   2004         MH0440     14010276   \n",
       "2        20171            1           1   2004         MH0440     13010237   \n",
       "3        20171            1           1   2004         MH0440     13010241   \n",
       "4        20171            1           1   2004         MH0440     12010327   \n",
       "\n",
       "   val_calific_final  \n",
       "0               16.0  \n",
       "1               16.0  \n",
       "2               15.0  \n",
       "3               15.0  \n",
       "4               13.0  "
      ]
     },
     "execution_count": 143,
     "metadata": {},
     "output_type": "execute_result"
    }
   ],
   "source": [
    "calificaciones.head()"
   ]
  },
  {
   "cell_type": "code",
   "execution_count": 144,
   "metadata": {},
   "outputs": [
    {
     "name": "stdout",
     "output_type": "stream",
     "text": [
      "20171\n",
      "20172\n",
      "20181\n",
      "20182\n",
      "20191\n",
      "20192\n",
      "20201\n",
      "20202\n"
     ]
    }
   ],
   "source": [
    "#filtro_20171 = calificaciones[\"cod_semestre\"] == \"20171\"\n",
    "#num_20171=len(calificaciones[filtro_20171][\"cod_alumno\"].unique())\n",
    "numero_alumnos_por_semestre=[]\n",
    "for semestre in semestres:\n",
    "    print(semestre)\n",
    "    filtro = calificaciones[\"cod_semestre\"] == semestre\n",
    "    num=len(calificaciones[filtro][\"cod_alumno\"].unique())\n",
    "    numero_alumnos_por_semestre.append(num)"
   ]
  },
  {
   "cell_type": "code",
   "execution_count": 149,
   "metadata": {},
   "outputs": [
    {
     "data": {
      "image/png": "[encoded data removed]",
      "text/plain": [
       "<Figure size 432x288 with 1 Axes>"
      ]
     },
     "metadata": {
      "needs_background": "light"
     },
     "output_type": "display_data"
    }
   ],
   "source": [
    "plt.scatter(semestres,numero_alumnos_por_semestre, marker=\"*\", color=\"red\")\n",
    "plt.plot(semestres,numero_alumnos_por_semestre, color=\"green\")\n",
    "\n",
    "plt.xlabel(\"Semestre\")\n",
    "plt.ylabel(\"Cantidad de Alumnos\")\n",
    "\n",
    "plt.show() "
   ]
  },
  {
   "cell_type": "code",
   "execution_count": 177,
   "metadata": {},
   "outputs": [
    {
     "data": {
      "text/plain": [
       "val_calific_final    13.205061\n",
       "dtype: float64"
      ]
     },
     "execution_count": 177,
     "metadata": {},
     "output_type": "execute_result"
    }
   ],
   "source": [
    "ju=calificaciones[calificaciones[\"cod_semestre\"] == \"20171\"]\n",
    "ju[[\"val_calific_final\"]].mean()"
   ]
  },
  {
   "cell_type": "code",
   "execution_count": 178,
   "metadata": {},
   "outputs": [],
   "source": [
    "prom_sem = calificaciones[[\"cod_semestre\",\"val_calific_final\"]]\n",
    "promedio_semestre=[]\n",
    "for semestre in semestres:\n",
    "    c = prom_sem[prom_sem[\"cod_semestre\"] == semestre]\n",
    "    promedio=c[[\"val_calific_final\"]].mean()\n",
    "    promedio_semestre.append(promedio)"
   ]
  },
  {
   "cell_type": "code",
   "execution_count": 181,
   "metadata": {},
   "outputs": [
    {
     "data": {
      "image/png": "[encoded data removed]",
      "text/plain": [
       "<Figure size 432x288 with 1 Axes>"
      ]
     },
     "metadata": {
      "needs_background": "light"
     },
     "output_type": "display_data"
    }
   ],
   "source": [
    "plt.scatter(semestres,promedio_semestre, marker=\"*\", color=\"red\")\n",
    "plt.plot(semestres,promedio_semestre, color=\"skyblue\")\n",
    "\n",
    "plt.xlabel(\"Semestre\")\n",
    "plt.ylabel(\"Promedio\")\n",
    "\n",
    "plt.show() "
   ]
  }
 ],
 "metadata": {
  "interpreter": {
   "hash": "c469c999aae2bf6d578d6881606ced546d1546d312a4811937df5b24665ee8bc"
  },
  "kernelspec": {
   "display_name": "Python 3.9.12 ('base')",
   "language": "python",
   "name": "python3"
  },
  "language_info": {
   "codemirror_mode": {
    "name": "ipython",
    "version": 3
   },
   "file_extension": ".py",
   "mimetype": "text/x-python",
   "name": "python",
   "nbconvert_exporter": "python",
   "pygments_lexer": "ipython3",
   "version": "3.9.12"
  },
  "orig_nbformat": 4
 },
 "nbformat": 4,
 "nbformat_minor": 2
}
