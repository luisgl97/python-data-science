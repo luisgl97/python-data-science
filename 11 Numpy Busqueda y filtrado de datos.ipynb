{
 "cells": [
  {
   "cell_type": "code",
   "execution_count": 1,
   "metadata": {},
   "outputs": [],
   "source": [
    "import numpy as np\n",
    "\n",
    "arreglo = np.array([11,12,13,14,15])"
   ]
  },
  {
   "cell_type": "code",
   "execution_count": 4,
   "metadata": {},
   "outputs": [
    {
     "name": "stdout",
     "output_type": "stream",
     "text": [
      "(array([2, 3, 4], dtype=int64),)\n"
     ]
    }
   ],
   "source": [
    "print(np.where(arreglo>=13))"
   ]
  },
  {
   "cell_type": "code",
   "execution_count": 5,
   "metadata": {},
   "outputs": [
    {
     "name": "stdout",
     "output_type": "stream",
     "text": [
      "[11 14 15]\n"
     ]
    }
   ],
   "source": [
    "filtro = [True, False, False, True, True]\n",
    "print(arreglo[filtro])"
   ]
  },
  {
   "cell_type": "code",
   "execution_count": 6,
   "metadata": {},
   "outputs": [],
   "source": [
    "pais= np.array([\"Albania\", \"Alemania\", \"Andorra\", \"Angola\",\n",
    "                \"Antigua y Barbuda\", \"Arabia Saudita\", \"Argelia\",\n",
    "                \"Argentina\", \"Armenia\", \"Australia\", \"Austria\",\n",
    "                \"Bahrein\", \"Bangladesh\", \"Belarús\", \"Belice\", \"Benín\",\n",
    "                \"Bermudas\", \"Bolivia\", \"Bosnia y Hercegovina\", \"Botsuana\",\n",
    "                \"Brasil\", \"Brunéi\", \"Burundi\", \"Bélgica\", \"Cabo Verde\",\n",
    "                \"Cambodia\", \"Canadá\", \"Catar\", \"Chad\", \"Chequia\", \"Chile\",\n",
    "                \"Colombia\", \"Congo (Rep. Democr.)\", \"Corea del Norte\",\n",
    "                \"Corea del Sur\", \"Costa de Marfil\", \"Costa Rica\", \"Croacia\",\n",
    "                \"Cuba\", \"Dinamarca\", \"Dominica\", \"Ecuador\", \"Egipto\",\n",
    "                \"El Salvador\", \"Emiratos Árabes\", \"Eritrea\", \"Eslovaquia\",\n",
    "                \"Eslovenia\", \"España\", \"Estonia\", \"Etiopía\", \"Fiji\",\n",
    "                \"Filipinas\", \"Finlandia\", \"Francia\", \"Gabón\", \"Gambia\",\n",
    "                \"Granada\", \"Grecia\", \"Groenlandia\", \"Guatemala\",\n",
    "                \"Guinea Ecuatorial\", \"Honduras\", \"Hong Kong\", \"Hungría\",\n",
    "                \"India\", \"Indonesia\", \"Iraq\", \"Irlanda\", \"Islandia\",\n",
    "                \"Islas Cook\", \"Islas Salomón\", \"Israel\", \"Japón\",\n",
    "                \"Kirguistán\", \"Kiribati\", \"Laos\", \"Letonia\", \"Libia\",\n",
    "                \"Lituania\", \"Luxemburgo\", \"Líbano\", \"Macedonia\",\n",
    "                \"Madagascar\", \"Malaui\", \"Maldivas\", \"Malta\", \"Marruecos\",\n",
    "                \"Micronesia\", \"Moldavia\", \"Mongolia\", \"Montenegro\",\n",
    "                \"Mozambique\", \"México\", \"Namibia\", \"Nauru\", \"Nepal\",\n",
    "                \"Nicaragua\", \"Niue\", \"Noruega\", \"Nueva Zelandia\", \"Níger\",\n",
    "                \"Omán\", \"Palaos\", \"Panamá\", \"Papúa Nueva Guinea\", \"Paraguay\",\n",
    "                \"Países Bajos\", \"Perú\", \"Polinesia Francesa\", \"Polonia\",\n",
    "                \"Puerto Rico\", \"Reino Unido\", \"República Dominicana\",\n",
    "                \"Rumania\", \"Samoa\", \"Samoa Americana\", \"Santa Lucía\",\n",
    "                \"Senegal\", \"Serbia\", \"Seychelles\", \"Suecia\", \"Suiza\",\n",
    "                \"Tailandia\", \"Taiwán\", \"Timor Oriental\", \"Tokelau\", \"Tonga\",\n",
    "                \"Tuvalu\", \"Túnez\", \"Ucrania\", \"Uganda\", \"Uruguay\", \"USA\",\n",
    "                \"Venezuela\", \"Vietnam\", \"Yemen\", \"Zambia\"])\n",
    "                \n",
    "altura = np.array([1.74, 1.8, 1.78, 1.68, 1.78, 1.7, 1.74, 1.74, 1.73, 1.79, \n",
    "           1.78, 1.72, 1.65, 1.78, 1.7, 1.68, 1.79, 1.68, 1.82, 1.72,\n",
    "           1.75, 1.66, 1.67, 1.79, 1.75, 1.65, 1.78, 1.73, 1.71, 1.81,\n",
    "           1.73, 1.71, 1.68, 1.74, 1.75, 1.68, 1.74, 1.81, 1.73, 1.82,\n",
    "           1.8, 1.67, 1.73, 1.7, 1.73, 1.7, 1.81, 1.81, 1.76, 1.82, 1.68,\n",
    "           1.74, 1.65, 1.8, 1.78, 1.7, 1.68, 1.78, 1.79, 1.73, 1.64, 1.67,\n",
    "           1.69, 1.74, 1.76, 1.66, 1.66, 1.73, 1.79, 1.81, 1.78, 1.63,\n",
    "           1.76, 1.72, 1.71, 1.7, 1.62, 1.8, 1.75, 1.8, 1.78, 1.78, 1.76,\n",
    "           1.65, 1.65, 1.68, 1.74, 1.75, 1.69, 1.75, 1.7, 1.83, 1.64, 1.7,\n",
    "           1.69, 1.69, 1.64, 1.69, 1.77, 1.8, 1.78, 1.69, 1.7, 1.7, 1.7,\n",
    "           1.63, 1.73, 1.84, 1.66, 1.78, 1.8, 1.79, 1.78, 1.74, 1.77,\n",
    "           1.73, 1.77, 1.76, 1.75, 1.8, 1.75,  1.8, 1.79, 1.71, 1.73,\n",
    "           1.59, 1.76, 1.75, 1.71, 1.76, 1.8, 1.68, 1.74, 1.77, 1.73,\n",
    "           1.68, 1.63, 1.67])\n",
    "\n",
    "peso = np.array([81.4, 88.7, 87.3, 62.7, 81.6, 80.9, 74.6, 84.7, 76.7, 88.3,\n",
    "         84.6, 74, 57.7, 84.1, 79.7, 63.8, 88.4, 71.2, 87.1, 67, 80.7,\n",
    "         74.7, 60.5, 85.9, 72.4, 59.7, 87.3, 85.7, 64.1, 91.9, 82.8, 75.7,\n",
    "         60.2, 73.1, 74.7, 65.9, 80.9, 91.3, 76, 86.8, 80.7, 74.2, 83.1,\n",
    "         77.8, 84.5, 58.8, 89.5, 87, 84, 89.9, 56.5, 80.2, 61.8, 86.3,\n",
    "         82.6, 69.4, 65.8, 79.3, 88.1, 78.5, 69.1, 62.5, 74, 74.4, 87.6,\n",
    "         59.6, 61.4, 83.2, 89.2, 89.2, 103.7, 67.9, 85.4, 69.5, 75.7, \n",
    "         83.9, 59.5, 87.9, 82.6, 88.1, 86.2, 88.9, 84.4, 58.4, 61.5, 69.2,\n",
    "         84.2, 78, 81.1, 81.5, 74.7, 90.4, 59.2, 79.3, 65.1, 93, 60.5,\n",
    "         76.4, 98.8, 89.1, 88.9, 61.1, 76.6, 86, 75.5, 66.9, 79.4, 87.9,\n",
    "         72.3, 93.8, 89, 90.7, 86.7, 77.6, 85.1, 91.8, 103.2, 91.1, 67,\n",
    "         86.9, 78.7, 87.1, 85.5, 69.8, 75, 53.9, 99, 93.7, 88, 79.4, 87.6,\n",
    "         60.4, 82.7, 90.6, 79.8, 61.2, 62.5, 59.7])"
   ]
  },
  {
   "cell_type": "code",
   "execution_count": 12,
   "metadata": {},
   "outputs": [
    {
     "name": "stdout",
     "output_type": "stream",
     "text": [
      "[ 91.9  91.3 103.7  90.4  93.   98.8  93.8  90.7  91.8 103.2  91.1  99.\n",
      "  93.7  90.6] 14\n"
     ]
    }
   ],
   "source": [
    "# Pesos que son mayores que 90\n",
    "print(peso[peso>90] , peso[peso>90].size)"
   ]
  },
  {
   "cell_type": "code",
   "execution_count": 13,
   "metadata": {},
   "outputs": [
    {
     "name": "stdout",
     "output_type": "stream",
     "text": [
      "['Chequia' 'Croacia' 'Islas Cook' 'Montenegro' 'Nauru' 'Niue'\n",
      " 'Polinesia Francesa' 'Puerto Rico' 'Samoa' 'Samoa Americana'\n",
      " 'Santa Lucía' 'Tokelau' 'Tonga' 'USA'] 14\n"
     ]
    }
   ],
   "source": [
    "# Paises que tienen peso mayor que 90\n",
    "print(pais[peso>90], pais[peso>90].size)"
   ]
  },
  {
   "cell_type": "code",
   "execution_count": 14,
   "metadata": {},
   "outputs": [
    {
     "name": "stdout",
     "output_type": "stream",
     "text": [
      "['Bosnia y Hercegovina' 'Chequia' 'Croacia' 'Dinamarca' 'Eslovaquia'\n",
      " 'Eslovenia' 'Estonia' 'Islandia' 'Montenegro' 'Países Bajos'] 10\n"
     ]
    }
   ],
   "source": [
    "print(pais[altura>1.80], pais[altura>1.80].size)"
   ]
  },
  {
   "cell_type": "code",
   "execution_count": 16,
   "metadata": {},
   "outputs": [
    {
     "name": "stdout",
     "output_type": "stream",
     "text": [
      "['Chequia' 'Croacia' 'Montenegro']\n",
      "['Bosnia y Hercegovina' 'Chequia' 'Croacia' 'Dinamarca' 'Eslovaquia'\n",
      " 'Eslovenia' 'Estonia' 'Islandia' 'Islas Cook' 'Montenegro' 'Nauru' 'Niue'\n",
      " 'Países Bajos' 'Polinesia Francesa' 'Puerto Rico' 'Samoa'\n",
      " 'Samoa Americana' 'Santa Lucía' 'Tokelau' 'Tonga' 'USA']\n"
     ]
    }
   ],
   "source": [
    "print(pais[(peso>90) & (altura>1.80)])\n",
    "print(pais[(peso>90) | (altura>1.80)])"
   ]
  }
 ],
 "metadata": {
  "kernelspec": {
   "display_name": "Python 3.9.6 64-bit",
   "language": "python",
   "name": "python3"
  },
  "language_info": {
   "codemirror_mode": {
    "name": "ipython",
    "version": 3
   },
   "file_extension": ".py",
   "mimetype": "text/x-python",
   "name": "python",
   "nbconvert_exporter": "python",
   "pygments_lexer": "ipython3",
   "version": "3.9.6"
  },
  "orig_nbformat": 4,
  "vscode": {
   "interpreter": {
    "hash": "f6c8f846148a3e4d140e6ddf63c190cff559dcf260a4a21539f0978f2b58638c"
   }
  }
 },
 "nbformat": 4,
 "nbformat_minor": 2
}
